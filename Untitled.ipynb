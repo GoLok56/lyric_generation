{
 "cells": [
  {
   "cell_type": "code",
   "execution_count": 1,
   "metadata": {},
   "outputs": [
    {
     "name": "stderr",
     "output_type": "stream",
     "text": [
      "Using TensorFlow backend.\n"
     ]
    }
   ],
   "source": [
    "from keras.models import Sequential, load_model\n",
    "from keras.layers import Dense, Activation, Dropout, LSTM\n",
    "from keras.optimizers import RMSprop\n",
    "\n",
    "import numpy as np\n",
    "\n",
    "import io"
   ]
  },
  {
   "cell_type": "code",
   "execution_count": 2,
   "metadata": {},
   "outputs": [],
   "source": [
    "SEQUENCE_LENGTH = 50"
   ]
  },
  {
   "cell_type": "code",
   "execution_count": 3,
   "metadata": {},
   "outputs": [],
   "source": [
    "with io.open(\"lirik_lp.txt\", 'r', encoding='utf8') as f:\n",
    "    lirik = f.read().lower()"
   ]
  },
  {
   "cell_type": "code",
   "execution_count": 4,
   "metadata": {},
   "outputs": [
    {
     "name": "stdout",
     "output_type": "stream",
     "text": [
      "['\\n', ' ', '!', '\"', \"'\", '(', ')', ',', '-', '.', '/', '0', '1', '2', '3', '4', '5', '6', '7', '8', ':', ';', '?', '[', ']', 'a', 'b', 'c', 'd', 'e', 'f', 'g', 'h', 'i', 'j', 'k', 'l', 'm', 'n', 'o', 'p', 'q', 'r', 's', 't', 'u', 'v', 'w', 'x', 'y', 'z', 'á', 'ç', '—', '’', '…']\n"
     ]
    }
   ],
   "source": [
    "chars = sorted(list(set(lirik)))\n",
    "print(chars)"
   ]
  },
  {
   "cell_type": "code",
   "execution_count": 5,
   "metadata": {},
   "outputs": [],
   "source": [
    "sequences = []\n",
    "next_chars = []\n",
    "for i in range(0, len(lirik) - SEQUENCE_LENGTH):\n",
    "    sequences.append(lirik[i: i + SEQUENCE_LENGTH])\n",
    "    next_chars.append(lirik[i + SEQUENCE_LENGTH])"
   ]
  },
  {
   "cell_type": "code",
   "execution_count": 6,
   "metadata": {},
   "outputs": [],
   "source": [
    "char_to_index = dict((c, i) for i, c in enumerate(chars)) \n",
    "index_to_char = dict((i, c) for i, c in enumerate(chars))"
   ]
  },
  {
   "cell_type": "code",
   "execution_count": 7,
   "metadata": {},
   "outputs": [],
   "source": [
    "X = np.zeros((len(sequences), SEQUENCE_LENGTH, len(chars)), dtype=np.bool)\n",
    "y = np.zeros((len(sequences), len(chars)), dtype=np.bool)\n",
    "for i, sentence in enumerate(sequences):\n",
    "    for t, char in enumerate(sentence):\n",
    "        X[i, t, char_to_index[char]] = 1\n",
    "    y[i, char_to_index[next_chars[i]]] = 1"
   ]
  },
  {
   "cell_type": "code",
   "execution_count": 8,
   "metadata": {},
   "outputs": [
    {
     "name": "stdout",
     "output_type": "stream",
     "text": [
      "WARNING:tensorflow:From D:\\Oray\\lib\\site-packages\\tensorflow\\python\\framework\\op_def_library.py:263: colocate_with (from tensorflow.python.framework.ops) is deprecated and will be removed in a future version.\n",
      "Instructions for updating:\n",
      "Colocations handled automatically by placer.\n",
      "WARNING:tensorflow:From D:\\Oray\\lib\\site-packages\\keras\\backend\\tensorflow_backend.py:3445: calling dropout (from tensorflow.python.ops.nn_ops) with keep_prob is deprecated and will be removed in a future version.\n",
      "Instructions for updating:\n",
      "Please use `rate` instead of `keep_prob`. Rate should be set to `rate = 1 - keep_prob`.\n",
      "_________________________________________________________________\n",
      "Layer (type)                 Output Shape              Param #   \n",
      "=================================================================\n",
      "lstm_1 (LSTM)                (None, 128)               94720     \n",
      "_________________________________________________________________\n",
      "dropout_1 (Dropout)          (None, 128)               0         \n",
      "_________________________________________________________________\n",
      "dense_1 (Dense)              (None, 128)               16512     \n",
      "_________________________________________________________________\n",
      "dense_2 (Dense)              (None, 56)                7224      \n",
      "=================================================================\n",
      "Total params: 118,456\n",
      "Trainable params: 118,456\n",
      "Non-trainable params: 0\n",
      "_________________________________________________________________\n"
     ]
    }
   ],
   "source": [
    "model = Sequential()\n",
    "model.add(LSTM(128, input_shape=(SEQUENCE_LENGTH, len(chars))))\n",
    "model.add(Dropout(0.2))\n",
    "model.add(Dense(128, activation='relu'))\n",
    "model.add(Dense(len(chars), activation='softmax'))\n",
    "\n",
    "optimizer = RMSprop(lr=0.01)\n",
    "model.compile(loss='categorical_crossentropy', optimizer=optimizer)\n",
    "model.summary()"
   ]
  },
  {
   "cell_type": "code",
   "execution_count": 9,
   "metadata": {},
   "outputs": [
    {
     "name": "stdout",
     "output_type": "stream",
     "text": [
      "WARNING:tensorflow:From D:\\Oray\\lib\\site-packages\\tensorflow\\python\\ops\\math_ops.py:3066: to_int32 (from tensorflow.python.ops.math_ops) is deprecated and will be removed in a future version.\n",
      "Instructions for updating:\n",
      "Use tf.cast instead.\n",
      "Epoch 1/20\n",
      "107665/107665 [==============================] - 37s 342us/step - loss: 2.0285\n",
      "Epoch 2/20\n",
      "107665/107665 [==============================] - 36s 333us/step - loss: 1.5995\n",
      "Epoch 3/20\n",
      "107665/107665 [==============================] - 36s 331us/step - loss: 1.4922\n",
      "Epoch 4/20\n",
      "107665/107665 [==============================] - 36s 335us/step - loss: 1.4280\n",
      "Epoch 5/20\n",
      "107665/107665 [==============================] - 37s 343us/step - loss: 1.3850\n",
      "Epoch 6/20\n",
      "107665/107665 [==============================] - 40s 367us/step - loss: 1.3582\n",
      "Epoch 7/20\n",
      "107665/107665 [==============================] - 39s 359us/step - loss: 1.3398\n",
      "Epoch 8/20\n",
      "107665/107665 [==============================] - 39s 362us/step - loss: 1.3299\n",
      "Epoch 9/20\n",
      "107665/107665 [==============================] - 39s 366us/step - loss: 1.3175\n",
      "Epoch 10/20\n",
      "107665/107665 [==============================] - 39s 360us/step - loss: 1.3114\n",
      "Epoch 11/20\n",
      "107665/107665 [==============================] - 38s 353us/step - loss: 1.3048\n",
      "Epoch 12/20\n",
      "107665/107665 [==============================] - 38s 354us/step - loss: 1.3016\n",
      "Epoch 13/20\n",
      "107665/107665 [==============================] - 38s 355us/step - loss: 1.3045\n",
      "Epoch 14/20\n",
      "107665/107665 [==============================] - 38s 357us/step - loss: 1.3000\n",
      "Epoch 15/20\n",
      "107665/107665 [==============================] - 39s 359us/step - loss: 1.2983\n",
      "Epoch 16/20\n",
      "107665/107665 [==============================] - 39s 360us/step - loss: 1.3732\n",
      "Epoch 17/20\n",
      "107665/107665 [==============================] - 39s 362us/step - loss: 1.3287\n",
      "Epoch 18/20\n",
      "107665/107665 [==============================] - 39s 361us/step - loss: 1.3166\n",
      "Epoch 19/20\n",
      "107665/107665 [==============================] - 39s 361us/step - loss: 1.3160\n",
      "Epoch 20/20\n",
      "107665/107665 [==============================] - 39s 363us/step - loss: 1.3247\n"
     ]
    },
    {
     "data": {
      "text/plain": [
       "<keras.callbacks.History at 0x1340a92c7b8>"
      ]
     },
     "execution_count": 9,
     "metadata": {},
     "output_type": "execute_result"
    }
   ],
   "source": [
    "model.fit(X, y, batch_size=128, epochs=20)\n",
    "# model = load_model(\"final.h5\")"
   ]
  },
  {
   "cell_type": "code",
   "execution_count": 10,
   "metadata": {},
   "outputs": [],
   "source": [
    "model.save('lirik_model.h5')"
   ]
  },
  {
   "cell_type": "code",
   "execution_count": null,
   "metadata": {},
   "outputs": [],
   "source": []
  }
 ],
 "metadata": {
  "kernelspec": {
   "display_name": "Python 3",
   "language": "python",
   "name": "python3"
  },
  "language_info": {
   "codemirror_mode": {
    "name": "ipython",
    "version": 3
   },
   "file_extension": ".py",
   "mimetype": "text/x-python",
   "name": "python",
   "nbconvert_exporter": "python",
   "pygments_lexer": "ipython3",
   "version": "3.7.3"
  }
 },
 "nbformat": 4,
 "nbformat_minor": 4
}
